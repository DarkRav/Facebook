{
 "cells": [
  {
   "cell_type": "code",
   "execution_count": 11,
   "metadata": {
    "collapsed": false
   },
   "outputs": [],
   "source": [
    "from nltk.sentiment.vader import SentimentIntensityAnalyzer\n",
    "from nltk import tokenize\n",
    "from sklearn.naive_bayes import MultinomialNB\n",
    "from sklearn.feature_extraction.text import CountVectorizer\n",
    "from sklearn.feature_extraction.text import TfidfTransformer\n",
    "from sklearn.svm import SVC\n",
    "\n",
    "from sklearn.model_selection import train_test_split\n",
    "from sklearn import cross_validation\n",
    "\n",
    "from sklearn.metrics import precision_recall_fscore_support as score\n",
    "import pandas as pd"
   ]
  },
  {
   "cell_type": "code",
   "execution_count": 12,
   "metadata": {
    "collapsed": false
   },
   "outputs": [],
   "source": [
    "train = pd.read_csv(\"Tweets.csv\") \n",
    "df  = pd.DataFrame(train, columns=train.keys())\n",
    "df = df.drop(['tweet_id', 'airline_sentiment_confidence',\n",
    "       'negativereason', 'negativereason_confidence', 'airline',\n",
    "       'airline_sentiment_gold', 'name', 'negativereason_gold',\n",
    "       'retweet_count', 'tweet_coord', 'tweet_created',\n",
    "       'tweet_location', 'user_timezone'], axis=1) "
   ]
  },
  {
   "cell_type": "code",
   "execution_count": 13,
   "metadata": {
    "collapsed": false
   },
   "outputs": [],
   "source": [
    "X_train, X_test, t_train, t_test = cross_validation.train_test_split(df, df['airline_sentiment'] , test_size=0.1) "
   ]
  },
  {
   "cell_type": "code",
   "execution_count": 14,
   "metadata": {
    "collapsed": true
   },
   "outputs": [],
   "source": [
    "count_vect = CountVectorizer()\n",
    "tfidf_transformer = TfidfTransformer()\n",
    "\n",
    "X_train_counts = count_vect.fit_transform(X_train.text)\n",
    "X_train_tfidf = tfidf_transformer.fit_transform(X_train_counts)"
   ]
  },
  {
   "cell_type": "code",
   "execution_count": 15,
   "metadata": {
    "collapsed": false
   },
   "outputs": [],
   "source": [
    "clf = MultinomialNB().fit(X_train_tfidf, t_train)"
   ]
  },
  {
   "cell_type": "code",
   "execution_count": 16,
   "metadata": {
    "collapsed": false
   },
   "outputs": [],
   "source": [
    "docs_new = ['God is love', 'OpenGL on the GPU is fast']\n",
    "X_new_counts = count_vect.transform(docs_new)\n",
    "X_new_tfidf = tfidf_transformer.transform(X_new_counts)"
   ]
  },
  {
   "cell_type": "code",
   "execution_count": 17,
   "metadata": {
    "collapsed": false
   },
   "outputs": [
    {
     "name": "stdout",
     "output_type": "stream",
     "text": [
      "['negative' 'negative']\n"
     ]
    }
   ],
   "source": [
    "predicted = clf.predict(X_new_tfidf)\n",
    "print(predicted)"
   ]
  },
  {
   "cell_type": "code",
   "execution_count": 18,
   "metadata": {
    "collapsed": false
   },
   "outputs": [],
   "source": [
    "#Преобразуем тестовую выборку\n",
    "X_test_counts =  count_vect.transform(X_test.text)\n",
    "X_test_tfidf  = tfidf_transformer.transform(X_test_counts)"
   ]
  },
  {
   "cell_type": "code",
   "execution_count": 19,
   "metadata": {
    "collapsed": false
   },
   "outputs": [
    {
     "name": "stdout",
     "output_type": "stream",
     "text": [
      "['negative' 'negative' 'negative' ..., 'negative' 'negative' 'neutral']\n"
     ]
    }
   ],
   "source": [
    "y_test = clf.predict(X_test_tfidf)\n",
    "y_train = clf.predict(X_train_tfidf)\n",
    "print(y_test)"
   ]
  },
  {
   "cell_type": "code",
   "execution_count": 22,
   "metadata": {
    "collapsed": false
   },
   "outputs": [
    {
     "name": "stdout",
     "output_type": "stream",
     "text": [
      "precision: [ 0.66018719  0.84782609  0.96551724]\n",
      "recall:    [ 0.99782372  0.13        0.11428571]\n",
      "fscore:    [ 0.79462738  0.22543353  0.20437956]\n",
      "support:   [919 300 245]\n"
     ]
    }
   ],
   "source": [
    "precision, recall, fscore, support = score(t_test, y_test)\n",
    "\n",
    "print('precision: {}'.format(precision))\n",
    "print('recall:    {}'.format(recall))\n",
    "print('fscore:    {}'.format(fscore))\n",
    "print('support:   {}'.format(support))"
   ]
  },
  {
   "cell_type": "code",
   "execution_count": 23,
   "metadata": {
    "collapsed": false
   },
   "outputs": [
    {
     "name": "stdout",
     "output_type": "stream",
     "text": [
      "precision: [ 0.68975626  0.91213389  0.95961538]\n",
      "recall:    [ 0.99709408  0.23365488  0.23559962]\n",
      "fscore:    [ 0.81542727  0.37201365  0.37831691]\n",
      "support:   [8259 2799 2118]\n"
     ]
    }
   ],
   "source": [
    "precision, recall, fscore, support = score(t_train, y_train)\n",
    "\n",
    "print('precision: {}'.format(precision))\n",
    "print('recall:    {}'.format(recall))\n",
    "print('fscore:    {}'.format(fscore))\n",
    "print('support:   {}'.format(support))"
   ]
  },
  {
   "cell_type": "code",
   "execution_count": 24,
   "metadata": {
    "collapsed": false
   },
   "outputs": [
    {
     "name": "stdout",
     "output_type": "stream",
     "text": [
      "precision: [ 0.68975626  0.91213389  0.95961538]\n",
      "recall:    [ 0.99709408  0.23365488  0.23559962]\n",
      "fscore:    [ 0.81542727  0.37201365  0.37831691]\n",
      "support:   [8259 2799 2118]\n",
      "precision: [ 0.66018719  0.84782609  0.96551724]\n",
      "recall:    [ 0.99782372  0.13        0.11428571]\n",
      "fscore:    [ 0.79462738  0.22543353  0.20437956]\n",
      "support:   [919 300 245]\n"
     ]
    }
   ],
   "source": [
    "svm = SVC(kernel='rbf')\n",
    "svm.fit(X_train_tfidf, t_train)\n",
    "\n",
    "y_test = clf.predict(X_test_tfidf)\n",
    "y_train = clf.predict(X_train_tfidf)\n",
    "\n",
    "precision, recall, fscore, support = score(t_train, y_train)\n",
    "\n",
    "print('precision: {}'.format(precision))\n",
    "print('recall:    {}'.format(recall))\n",
    "print('fscore:    {}'.format(fscore))\n",
    "print('support:   {}'.format(support))\n",
    "\n",
    "precision, recall, fscore, support = score(t_test, y_test)\n",
    "\n",
    "print('precision: {}'.format(precision))\n",
    "print('recall:    {}'.format(recall))\n",
    "print('fscore:    {}'.format(fscore))\n",
    "print('support:   {}'.format(support))"
   ]
  },
  {
   "cell_type": "code",
   "execution_count": null,
   "metadata": {
    "collapsed": true
   },
   "outputs": [],
   "source": []
  }
 ],
 "metadata": {
  "anaconda-cloud": {},
  "kernelspec": {
   "display_name": "Python [conda root]",
   "language": "python",
   "name": "conda-root-py"
  },
  "language_info": {
   "codemirror_mode": {
    "name": "ipython",
    "version": 3
   },
   "file_extension": ".py",
   "mimetype": "text/x-python",
   "name": "python",
   "nbconvert_exporter": "python",
   "pygments_lexer": "ipython3",
   "version": "3.5.2"
  }
 },
 "nbformat": 4,
 "nbformat_minor": 1
}
